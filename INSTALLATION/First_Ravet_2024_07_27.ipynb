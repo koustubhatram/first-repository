{
 "cells": [
  {
   "cell_type": "markdown",
   "id": "318ea66d",
   "metadata": {},
   "source": [
    "# Introduction of Jupyter Notebook"
   ]
  },
  {
   "cell_type": "code",
   "execution_count": 1,
   "id": "e7ea4bf2",
   "metadata": {},
   "outputs": [
    {
     "name": "stdout",
     "output_type": "stream",
     "text": [
      "Welcome\n"
     ]
    }
   ],
   "source": [
    "print(\"Welcome\")"
   ]
  },
  {
   "cell_type": "code",
   "execution_count": null,
   "id": "a7bfbe1c",
   "metadata": {},
   "outputs": [],
   "source": [
    "first"
   ]
  },
  {
   "cell_type": "markdown",
   "id": "af86f17a",
   "metadata": {},
   "source": [
    "# Short cut key to run code is CTRL + ENTER"
   ]
  },
  {
   "cell_type": "code",
   "execution_count": null,
   "id": "058fa7c6",
   "metadata": {},
   "outputs": [],
   "source": []
  },
  {
   "cell_type": "code",
   "execution_count": 5,
   "id": "6bf6170c",
   "metadata": {},
   "outputs": [
    {
     "name": "stdout",
     "output_type": "stream",
     "text": [
      "8020\n"
     ]
    }
   ],
   "source": [
    "print(123+7897)"
   ]
  },
  {
   "cell_type": "code",
   "execution_count": null,
   "id": "d22371a1",
   "metadata": {},
   "outputs": [],
   "source": []
  },
  {
   "cell_type": "markdown",
   "id": "b84aafb5",
   "metadata": {},
   "source": [
    "# shortcut to add new cell below current cell is B"
   ]
  },
  {
   "cell_type": "markdown",
   "id": "379f5bc4",
   "metadata": {},
   "source": [
    "# shortcut to add new cell press a from keyboard"
   ]
  },
  {
   "cell_type": "markdown",
   "id": "ac51a50c",
   "metadata": {},
   "source": [
    "Delete cell press D key twice"
   ]
  },
  {
   "cell_type": "code",
   "execution_count": 6,
   "id": "990759ce",
   "metadata": {},
   "outputs": [
    {
     "name": "stdout",
     "output_type": "stream",
     "text": [
      "3.0\n"
     ]
    }
   ],
   "source": [
    "print(6/2)"
   ]
  },
  {
   "cell_type": "code",
   "execution_count": 7,
   "id": "87084405",
   "metadata": {},
   "outputs": [
    {
     "data": {
      "text/plain": [
       "80"
      ]
     },
     "execution_count": 7,
     "metadata": {},
     "output_type": "execute_result"
    }
   ],
   "source": [
    "78+2"
   ]
  },
  {
   "cell_type": "code",
   "execution_count": 12,
   "id": "7d00dc15",
   "metadata": {},
   "outputs": [
    {
     "name": "stdout",
     "output_type": "stream",
     "text": [
      "Value of a= 7\n",
      "Value of b= 2\n",
      "Sum= 9\n"
     ]
    }
   ],
   "source": [
    "a=7\n",
    "b=2\n",
    "c=a+b\n",
    "print(\"Value of a=\",a)\n",
    "print(\"Value of b=\",b)\n",
    "print(\"Sum=\",c)"
   ]
  },
  {
   "cell_type": "code",
   "execution_count": 10,
   "id": "ad4b6fb8",
   "metadata": {},
   "outputs": [
    {
     "data": {
      "text/plain": [
       "29.666666666666668"
      ]
     },
     "execution_count": 10,
     "metadata": {},
     "output_type": "execute_result"
    }
   ],
   "source": [
    "89/3\n"
   ]
  },
  {
   "cell_type": "code",
   "execution_count": 11,
   "id": "7c843439",
   "metadata": {
    "scrolled": true
   },
   "outputs": [
    {
     "name": "stdout",
     "output_type": "stream",
     "text": [
      "7 2 9\n"
     ]
    }
   ],
   "source": [
    "print(a,b,c)"
   ]
  },
  {
   "cell_type": "code",
   "execution_count": 13,
   "id": "22ccaad4",
   "metadata": {},
   "outputs": [
    {
     "name": "stdout",
     "output_type": "stream",
     "text": [
      "Square= 64\n"
     ]
    }
   ],
   "source": [
    "# calculate square of a number\n",
    "num1=8\n",
    "sq=num1*num1\n",
    "print(\"Square=\",sq)"
   ]
  },
  {
   "cell_type": "code",
   "execution_count": null,
   "id": "f9ca2e87",
   "metadata": {},
   "outputs": [],
   "source": []
  },
  {
   "cell_type": "code",
   "execution_count": null,
   "id": "45b687e8",
   "metadata": {},
   "outputs": [],
   "source": []
  }
 ],
 "metadata": {
  "kernelspec": {
   "display_name": "Python 3 (ipykernel)",
   "language": "python",
   "name": "python3"
  },
  "language_info": {
   "codemirror_mode": {
    "name": "ipython",
    "version": 3
   },
   "file_extension": ".py",
   "mimetype": "text/x-python",
   "name": "python",
   "nbconvert_exporter": "python",
   "pygments_lexer": "ipython3",
   "version": "3.11.5"
  }
 },
 "nbformat": 4,
 "nbformat_minor": 5
}
